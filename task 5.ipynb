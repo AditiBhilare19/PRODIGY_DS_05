{
 "cells": [
  {
   "cell_type": "code",
   "execution_count": 1,
   "id": "496766bb-b1e2-4ccf-b3b3-c58f39a4abbc",
   "metadata": {},
   "outputs": [],
   "source": [
    "import numpy as np\n",
    "import pandas as pd\n",
    "import seaborn as sns \n",
    "import matplotlib.pyplot as plt\n",
    "\n",
    "\n"
   ]
  },
  {
   "cell_type": "code",
   "execution_count": 2,
   "id": "67cb6249-2abf-4bde-905f-1edadc2022dd",
   "metadata": {},
   "outputs": [],
   "source": [
    "df = pd.read_csv('US_Accidents_March23.csv' ,low_memory=False)"
   ]
  },
  {
   "cell_type": "code",
   "execution_count": 3,
   "id": "5c321621-1a7e-4306-8617-7023c52b0e05",
   "metadata": {},
   "outputs": [
    {
     "data": {
      "text/html": [
       "<div>\n",
       "<style scoped>\n",
       "    .dataframe tbody tr th:only-of-type {\n",
       "        vertical-align: middle;\n",
       "    }\n",
       "\n",
       "    .dataframe tbody tr th {\n",
       "        vertical-align: top;\n",
       "    }\n",
       "\n",
       "    .dataframe thead th {\n",
       "        text-align: right;\n",
       "    }\n",
       "</style>\n",
       "<table border=\"1\" class=\"dataframe\">\n",
       "  <thead>\n",
       "    <tr style=\"text-align: right;\">\n",
       "      <th></th>\n",
       "      <th>ID</th>\n",
       "      <th>Source</th>\n",
       "      <th>Severity</th>\n",
       "      <th>Start_Time</th>\n",
       "      <th>End_Time</th>\n",
       "      <th>Start_Lat</th>\n",
       "      <th>Start_Lng</th>\n",
       "      <th>End_Lat</th>\n",
       "      <th>End_Lng</th>\n",
       "      <th>Distance(mi)</th>\n",
       "      <th>...</th>\n",
       "      <th>Roundabout</th>\n",
       "      <th>Station</th>\n",
       "      <th>Stop</th>\n",
       "      <th>Traffic_Calming</th>\n",
       "      <th>Traffic_Signal</th>\n",
       "      <th>Turning_Loop</th>\n",
       "      <th>Sunrise_Sunset</th>\n",
       "      <th>Civil_Twilight</th>\n",
       "      <th>Nautical_Twilight</th>\n",
       "      <th>Astronomical_Twilight</th>\n",
       "    </tr>\n",
       "  </thead>\n",
       "  <tbody>\n",
       "    <tr>\n",
       "      <th>0</th>\n",
       "      <td>A-1</td>\n",
       "      <td>Source2</td>\n",
       "      <td>3</td>\n",
       "      <td>2016-02-08 05:46:00</td>\n",
       "      <td>2016-02-08 11:00:00</td>\n",
       "      <td>39.865147</td>\n",
       "      <td>-84.058723</td>\n",
       "      <td>NaN</td>\n",
       "      <td>NaN</td>\n",
       "      <td>0.01</td>\n",
       "      <td>...</td>\n",
       "      <td>False</td>\n",
       "      <td>False</td>\n",
       "      <td>False</td>\n",
       "      <td>False</td>\n",
       "      <td>False</td>\n",
       "      <td>False</td>\n",
       "      <td>Night</td>\n",
       "      <td>Night</td>\n",
       "      <td>Night</td>\n",
       "      <td>Night</td>\n",
       "    </tr>\n",
       "    <tr>\n",
       "      <th>1</th>\n",
       "      <td>A-2</td>\n",
       "      <td>Source2</td>\n",
       "      <td>2</td>\n",
       "      <td>2016-02-08 06:07:59</td>\n",
       "      <td>2016-02-08 06:37:59</td>\n",
       "      <td>39.928059</td>\n",
       "      <td>-82.831184</td>\n",
       "      <td>NaN</td>\n",
       "      <td>NaN</td>\n",
       "      <td>0.01</td>\n",
       "      <td>...</td>\n",
       "      <td>False</td>\n",
       "      <td>False</td>\n",
       "      <td>False</td>\n",
       "      <td>False</td>\n",
       "      <td>False</td>\n",
       "      <td>False</td>\n",
       "      <td>Night</td>\n",
       "      <td>Night</td>\n",
       "      <td>Night</td>\n",
       "      <td>Day</td>\n",
       "    </tr>\n",
       "    <tr>\n",
       "      <th>2</th>\n",
       "      <td>A-3</td>\n",
       "      <td>Source2</td>\n",
       "      <td>2</td>\n",
       "      <td>2016-02-08 06:49:27</td>\n",
       "      <td>2016-02-08 07:19:27</td>\n",
       "      <td>39.063148</td>\n",
       "      <td>-84.032608</td>\n",
       "      <td>NaN</td>\n",
       "      <td>NaN</td>\n",
       "      <td>0.01</td>\n",
       "      <td>...</td>\n",
       "      <td>False</td>\n",
       "      <td>False</td>\n",
       "      <td>False</td>\n",
       "      <td>False</td>\n",
       "      <td>True</td>\n",
       "      <td>False</td>\n",
       "      <td>Night</td>\n",
       "      <td>Night</td>\n",
       "      <td>Day</td>\n",
       "      <td>Day</td>\n",
       "    </tr>\n",
       "    <tr>\n",
       "      <th>3</th>\n",
       "      <td>A-4</td>\n",
       "      <td>Source2</td>\n",
       "      <td>3</td>\n",
       "      <td>2016-02-08 07:23:34</td>\n",
       "      <td>2016-02-08 07:53:34</td>\n",
       "      <td>39.747753</td>\n",
       "      <td>-84.205582</td>\n",
       "      <td>NaN</td>\n",
       "      <td>NaN</td>\n",
       "      <td>0.01</td>\n",
       "      <td>...</td>\n",
       "      <td>False</td>\n",
       "      <td>False</td>\n",
       "      <td>False</td>\n",
       "      <td>False</td>\n",
       "      <td>False</td>\n",
       "      <td>False</td>\n",
       "      <td>Night</td>\n",
       "      <td>Day</td>\n",
       "      <td>Day</td>\n",
       "      <td>Day</td>\n",
       "    </tr>\n",
       "    <tr>\n",
       "      <th>4</th>\n",
       "      <td>A-5</td>\n",
       "      <td>Source2</td>\n",
       "      <td>2</td>\n",
       "      <td>2016-02-08 07:39:07</td>\n",
       "      <td>2016-02-08 08:09:07</td>\n",
       "      <td>39.627781</td>\n",
       "      <td>-84.188354</td>\n",
       "      <td>NaN</td>\n",
       "      <td>NaN</td>\n",
       "      <td>0.01</td>\n",
       "      <td>...</td>\n",
       "      <td>False</td>\n",
       "      <td>False</td>\n",
       "      <td>False</td>\n",
       "      <td>False</td>\n",
       "      <td>True</td>\n",
       "      <td>False</td>\n",
       "      <td>Day</td>\n",
       "      <td>Day</td>\n",
       "      <td>Day</td>\n",
       "      <td>Day</td>\n",
       "    </tr>\n",
       "  </tbody>\n",
       "</table>\n",
       "<p>5 rows × 46 columns</p>\n",
       "</div>"
      ],
      "text/plain": [
       "    ID   Source  Severity           Start_Time             End_Time  \\\n",
       "0  A-1  Source2         3  2016-02-08 05:46:00  2016-02-08 11:00:00   \n",
       "1  A-2  Source2         2  2016-02-08 06:07:59  2016-02-08 06:37:59   \n",
       "2  A-3  Source2         2  2016-02-08 06:49:27  2016-02-08 07:19:27   \n",
       "3  A-4  Source2         3  2016-02-08 07:23:34  2016-02-08 07:53:34   \n",
       "4  A-5  Source2         2  2016-02-08 07:39:07  2016-02-08 08:09:07   \n",
       "\n",
       "   Start_Lat  Start_Lng  End_Lat  End_Lng  Distance(mi)  ... Roundabout  \\\n",
       "0  39.865147 -84.058723      NaN      NaN          0.01  ...      False   \n",
       "1  39.928059 -82.831184      NaN      NaN          0.01  ...      False   \n",
       "2  39.063148 -84.032608      NaN      NaN          0.01  ...      False   \n",
       "3  39.747753 -84.205582      NaN      NaN          0.01  ...      False   \n",
       "4  39.627781 -84.188354      NaN      NaN          0.01  ...      False   \n",
       "\n",
       "  Station   Stop Traffic_Calming Traffic_Signal Turning_Loop Sunrise_Sunset  \\\n",
       "0   False  False           False          False        False          Night   \n",
       "1   False  False           False          False        False          Night   \n",
       "2   False  False           False           True        False          Night   \n",
       "3   False  False           False          False        False          Night   \n",
       "4   False  False           False           True        False            Day   \n",
       "\n",
       "  Civil_Twilight Nautical_Twilight Astronomical_Twilight  \n",
       "0          Night             Night                 Night  \n",
       "1          Night             Night                   Day  \n",
       "2          Night               Day                   Day  \n",
       "3            Day               Day                   Day  \n",
       "4            Day               Day                   Day  \n",
       "\n",
       "[5 rows x 46 columns]"
      ]
     },
     "execution_count": 3,
     "metadata": {},
     "output_type": "execute_result"
    }
   ],
   "source": [
    "df.head()"
   ]
  },
  {
   "cell_type": "code",
   "execution_count": 4,
   "id": "af69fa40-64a6-4ec3-ad14-995f28524641",
   "metadata": {},
   "outputs": [
    {
     "name": "stdout",
     "output_type": "stream",
     "text": [
      "(5666, 46)\n"
     ]
    }
   ],
   "source": [
    "print(df.shape)"
   ]
  },
  {
   "cell_type": "code",
   "execution_count": 5,
   "id": "91c12749-1d4d-4482-86fe-2f0a0834f39e",
   "metadata": {},
   "outputs": [
    {
     "data": {
      "text/plain": [
       "Index(['ID', 'Source', 'Severity', 'Start_Time', 'End_Time', 'Start_Lat',\n",
       "       'Start_Lng', 'End_Lat', 'End_Lng', 'Distance(mi)', 'Description',\n",
       "       'Street', 'City', 'County', 'State', 'Zipcode', 'Country', 'Timezone',\n",
       "       'Airport_Code', 'Weather_Timestamp', 'Temperature(F)', 'Wind_Chill(F)',\n",
       "       'Humidity(%)', 'Pressure(in)', 'Visibility(mi)', 'Wind_Direction',\n",
       "       'Wind_Speed(mph)', 'Precipitation(in)', 'Weather_Condition', 'Amenity',\n",
       "       'Bump', 'Crossing', 'Give_Way', 'Junction', 'No_Exit', 'Railway',\n",
       "       'Roundabout', 'Station', 'Stop', 'Traffic_Calming', 'Traffic_Signal',\n",
       "       'Turning_Loop', 'Sunrise_Sunset', 'Civil_Twilight', 'Nautical_Twilight',\n",
       "       'Astronomical_Twilight'],\n",
       "      dtype='object')"
      ]
     },
     "execution_count": 5,
     "metadata": {},
     "output_type": "execute_result"
    }
   ],
   "source": [
    "df.columns"
   ]
  },
  {
   "cell_type": "code",
   "execution_count": 6,
   "id": "e11f8824-0b0c-4b0c-a5de-74740e76926b",
   "metadata": {},
   "outputs": [
    {
     "data": {
      "text/plain": [
       "object     21\n",
       "float64    12\n",
       "bool       12\n",
       "int64       1\n",
       "Name: count, dtype: int64"
      ]
     },
     "execution_count": 6,
     "metadata": {},
     "output_type": "execute_result"
    }
   ],
   "source": [
    "df.dtypes.value_counts()"
   ]
  },
  {
   "cell_type": "code",
   "execution_count": 7,
   "id": "b738b002-0d41-4c5c-babf-ac0e62263a8a",
   "metadata": {},
   "outputs": [
    {
     "data": {
      "text/plain": [
       "(5666, 46)"
      ]
     },
     "execution_count": 7,
     "metadata": {},
     "output_type": "execute_result"
    }
   ],
   "source": [
    "df.shape"
   ]
  },
  {
   "cell_type": "code",
   "execution_count": 8,
   "id": "b704a740-fdde-4352-9030-dcb40645c882",
   "metadata": {},
   "outputs": [
    {
     "data": {
      "text/html": [
       "<div>\n",
       "<style scoped>\n",
       "    .dataframe tbody tr th:only-of-type {\n",
       "        vertical-align: middle;\n",
       "    }\n",
       "\n",
       "    .dataframe tbody tr th {\n",
       "        vertical-align: top;\n",
       "    }\n",
       "\n",
       "    .dataframe thead th {\n",
       "        text-align: right;\n",
       "    }\n",
       "</style>\n",
       "<table border=\"1\" class=\"dataframe\">\n",
       "  <thead>\n",
       "    <tr style=\"text-align: right;\">\n",
       "      <th></th>\n",
       "      <th>Severity</th>\n",
       "      <th>Start_Lat</th>\n",
       "      <th>Start_Lng</th>\n",
       "      <th>End_Lat</th>\n",
       "      <th>End_Lng</th>\n",
       "      <th>Distance(mi)</th>\n",
       "      <th>Temperature(F)</th>\n",
       "      <th>Wind_Chill(F)</th>\n",
       "      <th>Humidity(%)</th>\n",
       "      <th>Pressure(in)</th>\n",
       "      <th>Visibility(mi)</th>\n",
       "      <th>Wind_Speed(mph)</th>\n",
       "      <th>Precipitation(in)</th>\n",
       "    </tr>\n",
       "  </thead>\n",
       "  <tbody>\n",
       "    <tr>\n",
       "      <th>count</th>\n",
       "      <td>5666.000000</td>\n",
       "      <td>5666.000000</td>\n",
       "      <td>5666.000000</td>\n",
       "      <td>0.0</td>\n",
       "      <td>0.0</td>\n",
       "      <td>5666.000000</td>\n",
       "      <td>5641.000000</td>\n",
       "      <td>542.000000</td>\n",
       "      <td>5635.000000</td>\n",
       "      <td>5646.000000</td>\n",
       "      <td>5624.000000</td>\n",
       "      <td>5050.000000</td>\n",
       "      <td>194.000000</td>\n",
       "    </tr>\n",
       "    <tr>\n",
       "      <th>mean</th>\n",
       "      <td>2.406813</td>\n",
       "      <td>38.244454</td>\n",
       "      <td>-116.894950</td>\n",
       "      <td>NaN</td>\n",
       "      <td>NaN</td>\n",
       "      <td>0.010217</td>\n",
       "      <td>67.783425</td>\n",
       "      <td>25.952952</td>\n",
       "      <td>53.253771</td>\n",
       "      <td>29.959215</td>\n",
       "      <td>9.451369</td>\n",
       "      <td>9.250198</td>\n",
       "      <td>0.021031</td>\n",
       "    </tr>\n",
       "    <tr>\n",
       "      <th>std</th>\n",
       "      <td>0.494863</td>\n",
       "      <td>0.847315</td>\n",
       "      <td>12.821977</td>\n",
       "      <td>NaN</td>\n",
       "      <td>NaN</td>\n",
       "      <td>0.211168</td>\n",
       "      <td>18.371934</td>\n",
       "      <td>12.062236</td>\n",
       "      <td>23.860265</td>\n",
       "      <td>0.387458</td>\n",
       "      <td>1.867478</td>\n",
       "      <td>4.317000</td>\n",
       "      <td>0.041885</td>\n",
       "    </tr>\n",
       "    <tr>\n",
       "      <th>min</th>\n",
       "      <td>1.000000</td>\n",
       "      <td>36.401604</td>\n",
       "      <td>-123.793976</td>\n",
       "      <td>NaN</td>\n",
       "      <td>NaN</td>\n",
       "      <td>0.000000</td>\n",
       "      <td>3.900000</td>\n",
       "      <td>-8.400000</td>\n",
       "      <td>8.000000</td>\n",
       "      <td>3.010000</td>\n",
       "      <td>0.200000</td>\n",
       "      <td>1.200000</td>\n",
       "      <td>0.000000</td>\n",
       "    </tr>\n",
       "    <tr>\n",
       "      <th>25%</th>\n",
       "      <td>2.000000</td>\n",
       "      <td>37.687282</td>\n",
       "      <td>-122.112236</td>\n",
       "      <td>NaN</td>\n",
       "      <td>NaN</td>\n",
       "      <td>0.000000</td>\n",
       "      <td>57.000000</td>\n",
       "      <td>20.950000</td>\n",
       "      <td>34.000000</td>\n",
       "      <td>29.880000</td>\n",
       "      <td>10.000000</td>\n",
       "      <td>5.800000</td>\n",
       "      <td>0.000000</td>\n",
       "    </tr>\n",
       "    <tr>\n",
       "      <th>50%</th>\n",
       "      <td>2.000000</td>\n",
       "      <td>38.016792</td>\n",
       "      <td>-121.761959</td>\n",
       "      <td>NaN</td>\n",
       "      <td>NaN</td>\n",
       "      <td>0.000000</td>\n",
       "      <td>68.000000</td>\n",
       "      <td>26.600000</td>\n",
       "      <td>53.000000</td>\n",
       "      <td>29.960000</td>\n",
       "      <td>10.000000</td>\n",
       "      <td>8.100000</td>\n",
       "      <td>0.000000</td>\n",
       "    </tr>\n",
       "    <tr>\n",
       "      <th>75%</th>\n",
       "      <td>3.000000</td>\n",
       "      <td>38.639285</td>\n",
       "      <td>-121.294031</td>\n",
       "      <td>NaN</td>\n",
       "      <td>NaN</td>\n",
       "      <td>0.000000</td>\n",
       "      <td>80.600000</td>\n",
       "      <td>34.500000</td>\n",
       "      <td>72.000000</td>\n",
       "      <td>30.050000</td>\n",
       "      <td>10.000000</td>\n",
       "      <td>11.500000</td>\n",
       "      <td>0.020000</td>\n",
       "    </tr>\n",
       "    <tr>\n",
       "      <th>max</th>\n",
       "      <td>4.000000</td>\n",
       "      <td>41.428753</td>\n",
       "      <td>-81.550728</td>\n",
       "      <td>NaN</td>\n",
       "      <td>NaN</td>\n",
       "      <td>11.930000</td>\n",
       "      <td>106.000000</td>\n",
       "      <td>66.000000</td>\n",
       "      <td>100.000000</td>\n",
       "      <td>30.620000</td>\n",
       "      <td>40.000000</td>\n",
       "      <td>31.100000</td>\n",
       "      <td>0.220000</td>\n",
       "    </tr>\n",
       "  </tbody>\n",
       "</table>\n",
       "</div>"
      ],
      "text/plain": [
       "          Severity    Start_Lat    Start_Lng  End_Lat  End_Lng  Distance(mi)  \\\n",
       "count  5666.000000  5666.000000  5666.000000      0.0      0.0   5666.000000   \n",
       "mean      2.406813    38.244454  -116.894950      NaN      NaN      0.010217   \n",
       "std       0.494863     0.847315    12.821977      NaN      NaN      0.211168   \n",
       "min       1.000000    36.401604  -123.793976      NaN      NaN      0.000000   \n",
       "25%       2.000000    37.687282  -122.112236      NaN      NaN      0.000000   \n",
       "50%       2.000000    38.016792  -121.761959      NaN      NaN      0.000000   \n",
       "75%       3.000000    38.639285  -121.294031      NaN      NaN      0.000000   \n",
       "max       4.000000    41.428753   -81.550728      NaN      NaN     11.930000   \n",
       "\n",
       "       Temperature(F)  Wind_Chill(F)  Humidity(%)  Pressure(in)  \\\n",
       "count     5641.000000     542.000000  5635.000000   5646.000000   \n",
       "mean        67.783425      25.952952    53.253771     29.959215   \n",
       "std         18.371934      12.062236    23.860265      0.387458   \n",
       "min          3.900000      -8.400000     8.000000      3.010000   \n",
       "25%         57.000000      20.950000    34.000000     29.880000   \n",
       "50%         68.000000      26.600000    53.000000     29.960000   \n",
       "75%         80.600000      34.500000    72.000000     30.050000   \n",
       "max        106.000000      66.000000   100.000000     30.620000   \n",
       "\n",
       "       Visibility(mi)  Wind_Speed(mph)  Precipitation(in)  \n",
       "count     5624.000000      5050.000000         194.000000  \n",
       "mean         9.451369         9.250198           0.021031  \n",
       "std          1.867478         4.317000           0.041885  \n",
       "min          0.200000         1.200000           0.000000  \n",
       "25%         10.000000         5.800000           0.000000  \n",
       "50%         10.000000         8.100000           0.000000  \n",
       "75%         10.000000        11.500000           0.020000  \n",
       "max         40.000000        31.100000           0.220000  "
      ]
     },
     "execution_count": 8,
     "metadata": {},
     "output_type": "execute_result"
    }
   ],
   "source": [
    "df.describe()"
   ]
  },
  {
   "cell_type": "code",
   "execution_count": 9,
   "id": "3725dd77-25c1-4b24-b40a-9bcfc7de8a1a",
   "metadata": {},
   "outputs": [
    {
     "name": "stdout",
     "output_type": "stream",
     "text": [
      "<class 'pandas.core.frame.DataFrame'>\n",
      "RangeIndex: 5666 entries, 0 to 5665\n",
      "Data columns (total 46 columns):\n",
      " #   Column                 Non-Null Count  Dtype  \n",
      "---  ------                 --------------  -----  \n",
      " 0   ID                     5666 non-null   object \n",
      " 1   Source                 5666 non-null   object \n",
      " 2   Severity               5666 non-null   int64  \n",
      " 3   Start_Time             5666 non-null   object \n",
      " 4   End_Time               5666 non-null   object \n",
      " 5   Start_Lat              5666 non-null   float64\n",
      " 6   Start_Lng              5666 non-null   float64\n",
      " 7   End_Lat                0 non-null      float64\n",
      " 8   End_Lng                0 non-null      float64\n",
      " 9   Distance(mi)           5666 non-null   float64\n",
      " 10  Description            5666 non-null   object \n",
      " 11  Street                 5666 non-null   object \n",
      " 12  City                   5666 non-null   object \n",
      " 13  County                 5666 non-null   object \n",
      " 14  State                  5666 non-null   object \n",
      " 15  Zipcode                5666 non-null   object \n",
      " 16  Country                5666 non-null   object \n",
      " 17  Timezone               5666 non-null   object \n",
      " 18  Airport_Code           5666 non-null   object \n",
      " 19  Weather_Timestamp      5647 non-null   object \n",
      " 20  Temperature(F)         5641 non-null   float64\n",
      " 21  Wind_Chill(F)          542 non-null    float64\n",
      " 22  Humidity(%)            5635 non-null   float64\n",
      " 23  Pressure(in)           5646 non-null   float64\n",
      " 24  Visibility(mi)         5624 non-null   float64\n",
      " 25  Wind_Direction         5647 non-null   object \n",
      " 26  Wind_Speed(mph)        5050 non-null   float64\n",
      " 27  Precipitation(in)      194 non-null    float64\n",
      " 28  Weather_Condition      5629 non-null   object \n",
      " 29  Amenity                5666 non-null   bool   \n",
      " 30  Bump                   5666 non-null   bool   \n",
      " 31  Crossing               5666 non-null   bool   \n",
      " 32  Give_Way               5666 non-null   bool   \n",
      " 33  Junction               5666 non-null   bool   \n",
      " 34  No_Exit                5666 non-null   bool   \n",
      " 35  Railway                5666 non-null   bool   \n",
      " 36  Roundabout             5666 non-null   bool   \n",
      " 37  Station                5666 non-null   bool   \n",
      " 38  Stop                   5666 non-null   bool   \n",
      " 39  Traffic_Calming        5666 non-null   bool   \n",
      " 40  Traffic_Signal         5666 non-null   bool   \n",
      " 41  Turning_Loop           5665 non-null   object \n",
      " 42  Sunrise_Sunset         5665 non-null   object \n",
      " 43  Civil_Twilight         5665 non-null   object \n",
      " 44  Nautical_Twilight      5665 non-null   object \n",
      " 45  Astronomical_Twilight  5665 non-null   object \n",
      "dtypes: bool(12), float64(12), int64(1), object(21)\n",
      "memory usage: 1.5+ MB\n"
     ]
    }
   ],
   "source": [
    "df.info()"
   ]
  },
  {
   "cell_type": "code",
   "execution_count": 10,
   "id": "0210dcca-72e4-4efd-bba4-79f461d5e4aa",
   "metadata": {},
   "outputs": [
    {
     "data": {
      "text/plain": [
       "<bound method Series.unique of 0       OH\n",
       "1       OH\n",
       "2       OH\n",
       "3       OH\n",
       "4       OH\n",
       "        ..\n",
       "5661    CA\n",
       "5662    CA\n",
       "5663    CA\n",
       "5664    CA\n",
       "5665    CA\n",
       "Name: State, Length: 5666, dtype: object>"
      ]
     },
     "execution_count": 10,
     "metadata": {},
     "output_type": "execute_result"
    }
   ],
   "source": [
    "df.State.unique"
   ]
  },
  {
   "cell_type": "code",
   "execution_count": 11,
   "id": "8df69b81-6a03-445f-9baf-fadc1745db60",
   "metadata": {},
   "outputs": [
    {
     "data": {
      "text/plain": [
       "13"
      ]
     },
     "execution_count": 11,
     "metadata": {},
     "output_type": "execute_result"
    }
   ],
   "source": [
    "numerics = ['int16', 'int32', 'int64', 'float16', 'float32', 'float64']\n",
    "numeric_df = df.select_dtypes(include=numerics)\n",
    "len(numeric_df.columns)"
   ]
  },
  {
   "cell_type": "code",
   "execution_count": 14,
   "id": "c181861e-6688-42f9-a851-ab5107cf9284",
   "metadata": {},
   "outputs": [
    {
     "data": {
      "text/plain": [
       "End_Lat                  5666\n",
       "End_Lng                  5666\n",
       "Precipitation(in)        5472\n",
       "Wind_Chill(F)            5124\n",
       "Wind_Speed(mph)           616\n",
       "Visibility(mi)             42\n",
       "Weather_Condition          37\n",
       "Humidity(%)                31\n",
       "Temperature(F)             25\n",
       "Pressure(in)               20\n",
       "Weather_Timestamp          19\n",
       "Wind_Direction             19\n",
       "Turning_Loop                1\n",
       "Sunrise_Sunset              1\n",
       "Civil_Twilight              1\n",
       "Nautical_Twilight           1\n",
       "Astronomical_Twilight       1\n",
       "dtype: int64"
      ]
     },
     "execution_count": 14,
     "metadata": {},
     "output_type": "execute_result"
    }
   ],
   "source": [
    "missing_values = df.isnull().sum()\n",
    "missing_values = missing_values[missing_values != 0 ]  \n",
    "missing_values = missing_values.sort_values(ascending = False) \n",
    "missing_values"
   ]
  },
  {
   "cell_type": "code",
   "execution_count": 18,
   "id": "730ca85a-f483-4c26-82d7-e087ab2f1069",
   "metadata": {},
   "outputs": [
    {
     "data": {
      "text/plain": [
       "<Axes: >"
      ]
     },
     "execution_count": 18,
     "metadata": {},
     "output_type": "execute_result"
    },
    {
     "data": {
      "image/png": "[encoded data removed]",
      "text/plain": [
       "<Figure size 640x480 with 1 Axes>"
      ]
     },
     "metadata": {},
     "output_type": "display_data"
    }
   ],
   "source": [
    "# convert the values into percentage :\n",
    "missing_values = missing_values / len(df) \n",
    "missing_values.plot(kind = 'barh') "
   ]
  },
  {
   "cell_type": "code",
   "execution_count": 16,
   "id": "62e57476-cf7f-4fb5-927f-ab89185cbdcf",
   "metadata": {},
   "outputs": [
    {
     "ename": "NameError",
     "evalue": "name 'CBA' is not defined",
     "output_type": "error",
     "traceback": [
      "\u001b[0;31m---------------------------------------------------------------------------\u001b[0m",
      "\u001b[0;31mNameError\u001b[0m                                 Traceback (most recent call last)",
      "Cell \u001b[0;32mIn[16], line 1\u001b[0m\n\u001b[0;32m----> 1\u001b[0m \u001b[43mCBA\u001b[49m[:\u001b[38;5;241m30\u001b[39m]\u001b[38;5;241m.\u001b[39mplot(kind\u001b[38;5;241m=\u001b[39m\u001b[38;5;124m'\u001b[39m\u001b[38;5;124mbarh\u001b[39m\u001b[38;5;124m'\u001b[39m)\n",
      "\u001b[0;31mNameError\u001b[0m: name 'CBA' is not defined"
     ]
    }
   ],
   "source": []
  },
  {
   "cell_type": "code",
   "execution_count": 19,
   "id": "29d7d42d-03ab-440e-9e9d-bce9841b8020",
   "metadata": {},
   "outputs": [
    {
     "name": "stdout",
     "output_type": "stream",
     "text": [
      "['Visibility(mi)', 'Weather_Condition', 'Humidity(%)', 'Temperature(F)', 'Pressure(in)', 'Weather_Timestamp', 'Wind_Direction', 'Turning_Loop', 'Sunrise_Sunset', 'Civil_Twilight', 'Nautical_Twilight', 'Astronomical_Twilight']\n"
     ]
    }
   ],
   "source": [
    "columns_to_drop = []\n",
    "for i in missing_values.index : \n",
    "    if missing_values[i] <0.05 and missing_values[i] >0:\n",
    "        columns_to_drop.append(i)\n",
    "\n",
    "print(columns_to_drop)"
   ]
  },
  {
   "cell_type": "code",
   "execution_count": 20,
   "id": "80511b61-879e-4272-bcd2-cab6a799fda5",
   "metadata": {},
   "outputs": [],
   "source": [
    "df = df.dropna(subset=columns_to_drop)"
   ]
  },
  {
   "cell_type": "code",
   "execution_count": 21,
   "id": "cd686d0e-a74f-49b0-b2e9-e67d4232afcd",
   "metadata": {},
   "outputs": [
    {
     "data": {
      "text/plain": [
       "361"
      ]
     },
     "execution_count": 21,
     "metadata": {},
     "output_type": "execute_result"
    }
   ],
   "source": [
    "#EDA\n",
    "df['City'].nunique()"
   ]
  },
  {
   "cell_type": "code",
   "execution_count": 22,
   "id": "d6153238-2fd6-46ed-bb0a-141d4e86f869",
   "metadata": {},
   "outputs": [
    {
     "data": {
      "text/plain": [
       "City\n",
       "Sacramento        636\n",
       "Dayton            321\n",
       "San Jose          298\n",
       "Oakland           183\n",
       "Columbus          170\n",
       "                 ... \n",
       "Freedom             1\n",
       "Mountain Ranch      1\n",
       "Merced              1\n",
       "Clearlake           1\n",
       "Graton              1\n",
       "Name: count, Length: 361, dtype: int64"
      ]
     },
     "execution_count": 22,
     "metadata": {},
     "output_type": "execute_result"
    }
   ],
   "source": [
    "Cities_by_accident = df['City'].value_counts()\n",
    "Cities_by_accident"
   ]
  },
  {
   "cell_type": "code",
   "execution_count": 23,
   "id": "15bdb6a6-371b-4738-8518-237745df0b95",
   "metadata": {},
   "outputs": [
    {
     "data": {
      "text/plain": [
       "City\n",
       "Sacramento        0.113673\n",
       "Dayton            0.057373\n",
       "San Jose          0.053262\n",
       "Oakland           0.032708\n",
       "Columbus          0.030384\n",
       "                    ...   \n",
       "Freedom           0.000179\n",
       "Mountain Ranch    0.000179\n",
       "Merced            0.000179\n",
       "Clearlake         0.000179\n",
       "Graton            0.000179\n",
       "Name: count, Length: 361, dtype: float64"
      ]
     },
     "execution_count": 23,
     "metadata": {},
     "output_type": "execute_result"
    }
   ],
   "source": [
    "Cities_by_accident_percentage = Cities_by_accident / len(df)\n",
    "Cities_by_accident_percentage\n"
   ]
  },
  {
   "cell_type": "code",
   "execution_count": 24,
   "id": "a18ca38f-9a9e-4ed0-beed-a8f7b774009b",
   "metadata": {},
   "outputs": [
    {
     "data": {
      "text/plain": [
       "City\n",
       "Sacramento       636\n",
       "Dayton           321\n",
       "San Jose         298\n",
       "Oakland          183\n",
       "Columbus         170\n",
       "San Francisco    141\n",
       "Stockton         136\n",
       "Tracy            129\n",
       "Hayward          115\n",
       "Pleasanton        92\n",
       "Name: count, dtype: int64"
      ]
     },
     "execution_count": 24,
     "metadata": {},
     "output_type": "execute_result"
    }
   ],
   "source": [
    "Top_10_Cities = Cities_by_accident.nlargest(10)\n",
    "Top_10_Cities"
   ]
  },
  {
   "cell_type": "code",
   "execution_count": 25,
   "id": "c2caf478-f43b-49aa-a8a3-9bea7c4f4fa7",
   "metadata": {},
   "outputs": [
    {
     "data": {
      "text/plain": [
       "<function matplotlib.pyplot.show(close=None, block=None)>"
      ]
     },
     "execution_count": 25,
     "metadata": {},
     "output_type": "execute_result"
    },
    {
     "data": {
      "image/png": "[encoded data removed]",
      "text/plain": [
       "<Figure size 640x480 with 1 Axes>"
      ]
     },
     "metadata": {},
     "output_type": "display_data"
    }
   ],
   "source": [
    "Top_10_Cities.plot(kind='bar')\n",
    "plt.xticks(rotation=45)\n",
    "plt.show"
   ]
  },
  {
   "cell_type": "code",
   "execution_count": 26,
   "id": "8a309f5e-69bf-4bfd-9c87-27ebddd5bb5d",
   "metadata": {},
   "outputs": [
    {
     "name": "stderr",
     "output_type": "stream",
     "text": [
      "/opt/conda/envs/anaconda-2024.02-py310/lib/python3.10/site-packages/seaborn/_oldcore.py:1119: FutureWarning: use_inf_as_na option is deprecated and will be removed in a future version. Convert inf values to NaN before operating instead.\n",
      "  with pd.option_context('mode.use_inf_as_na', True):\n"
     ]
    },
    {
     "data": {
      "text/plain": [
       "<Axes: xlabel='count', ylabel='Count'>"
      ]
     },
     "execution_count": 26,
     "metadata": {},
     "output_type": "execute_result"
    },
    {
     "data": {
      "image/png": "[encoded data removed]",
      "text/plain": [
       "<Figure size 640x480 with 1 Axes>"
      ]
     },
     "metadata": {},
     "output_type": "display_data"
    }
   ],
   "source": [
    "sns.histplot(Cities_by_accident, log_scale=True)\n"
   ]
  },
  {
   "cell_type": "code",
   "execution_count": 27,
   "id": "3cc8616f-8e72-4ca7-8d85-eddee6d47f2c",
   "metadata": {},
   "outputs": [
    {
     "name": "stdout",
     "output_type": "stream",
     "text": [
      "State\n",
      "CA    4204\n",
      "OH     562\n",
      "Name: count, dtype: int64\n"
     ]
    }
   ],
   "source": [
    "Top_100_Cities = Cities_by_accident[:100]\n",
    "states = df[df['City'].isin(Top_100_Cities.index)]\n",
    "print(states['State'].value_counts())"
   ]
  },
  {
   "cell_type": "code",
   "execution_count": 28,
   "id": "db4e5851-acf6-431f-8bf4-402b16c810a4",
   "metadata": {},
   "outputs": [],
   "source": [
    "#start time\n"
   ]
  },
  {
   "cell_type": "code",
   "execution_count": 29,
   "id": "1b82d479-3544-4575-ae0c-7e49857534e8",
   "metadata": {},
   "outputs": [
    {
     "name": "stdout",
     "output_type": "stream",
     "text": [
      "5505\n"
     ]
    }
   ],
   "source": [
    "print(df[\"Start_Time\"].nunique())"
   ]
  },
  {
   "cell_type": "code",
   "execution_count": 30,
   "id": "84627ad1-e43a-465f-a8a7-b92b0ca302ea",
   "metadata": {},
   "outputs": [
    {
     "data": {
      "text/plain": [
       "Start_Time\n",
       "2016-07-02 09:29:38    13\n",
       "2016-06-26 08:16:07    13\n",
       "2016-07-23 07:40:11    10\n",
       "2016-07-09 07:43:50    10\n",
       "2016-06-25 07:17:37     9\n",
       "2016-07-10 07:27:27     8\n",
       "2016-06-25 13:30:32     8\n",
       "2016-07-24 08:09:03     8\n",
       "2016-03-17 11:10:37     5\n",
       "2016-06-26 13:48:18     4\n",
       "Name: count, dtype: int64"
      ]
     },
     "execution_count": 30,
     "metadata": {},
     "output_type": "execute_result"
    }
   ],
   "source": [
    "top_10_start_time = df[\"Start_Time\"].value_counts()[:10]\n",
    "top_10_start_time"
   ]
  },
  {
   "cell_type": "code",
   "execution_count": 31,
   "id": "90fcf497-0aa8-4716-8865-704067a0ec89",
   "metadata": {},
   "outputs": [
    {
     "name": "stdout",
     "output_type": "stream",
     "text": [
      "datetime64[ns]\n"
     ]
    }
   ],
   "source": [
    "df['Start_Time'] = pd.to_datetime(df['Start_Time'] , format='mixed')\n",
    "print(df[\"Start_Time\"].dtype)"
   ]
  },
  {
   "cell_type": "code",
   "execution_count": 32,
   "id": "499f39d9-f408-41bb-b5d1-4128a27abfd4",
   "metadata": {},
   "outputs": [
    {
     "data": {
      "text/plain": [
       "array([2016], dtype=int32)"
      ]
     },
     "execution_count": 32,
     "metadata": {},
     "output_type": "execute_result"
    }
   ],
   "source": [
    "df['Start_Time'].dt.year.sort_values().unique()"
   ]
  },
  {
   "cell_type": "code",
   "execution_count": 33,
   "id": "e3651b03-eb8c-4c2d-bbd4-35393c60d963",
   "metadata": {},
   "outputs": [
    {
     "data": {
      "text/plain": [
       "Start_Time\n",
       "2016    5595\n",
       "Name: count, dtype: int64"
      ]
     },
     "execution_count": 33,
     "metadata": {},
     "output_type": "execute_result"
    }
   ],
   "source": [
    "df_year = df['Start_Time'].dt.year.value_counts()\n",
    "df_year\n"
   ]
  },
  {
   "cell_type": "code",
   "execution_count": 34,
   "id": "82105a0e-071e-467a-9593-1c9206ee06cb",
   "metadata": {},
   "outputs": [
    {
     "data": {
      "text/plain": [
       "Start_Time\n",
       "7     3056\n",
       "6     1111\n",
       "12     539\n",
       "2      425\n",
       "3      301\n",
       "11      86\n",
       "8       77\n",
       "Name: count, dtype: int64"
      ]
     },
     "execution_count": 34,
     "metadata": {},
     "output_type": "execute_result"
    }
   ],
   "source": [
    "df_month = df['Start_Time'].dt.month.value_counts()\n",
    "df_month"
   ]
  },
  {
   "cell_type": "code",
   "execution_count": null,
   "id": "88726a5c-4b6c-4327-897d-07e7330207d9",
   "metadata": {},
   "outputs": [],
   "source": []
  },
  {
   "cell_type": "code",
   "execution_count": 51,
   "id": "e6e914b1-b6e4-40c1-8187-0adaca3c6fae",
   "metadata": {},
   "outputs": [
    {
     "data": {
      "text/plain": [
       "<function matplotlib.pyplot.show(close=None, block=None)>"
      ]
     },
     "execution_count": 51,
     "metadata": {},
     "output_type": "execute_result"
    },
    {
     "data": {
      "image/png": "[encoded data removed]",
      "text/plain": [
       "<Figure size 640x480 with 1 Axes>"
      ]
     },
     "metadata": {},
     "output_type": "display_data"
    }
   ],
   "source": [
    "sns.countplot(x = df['Start_Time'].dt.month , data = df)\n",
    "plt.show"
   ]
  },
  {
   "cell_type": "code",
   "execution_count": 52,
   "id": "797e8f83-9057-4ea7-902e-b47874a16e1c",
   "metadata": {},
   "outputs": [
    {
     "data": {
      "text/plain": [
       "<function matplotlib.pyplot.show(close=None, block=None)>"
      ]
     },
     "execution_count": 52,
     "metadata": {},
     "output_type": "execute_result"
    },
    {
     "data": {
      "image/png": "[encoded data removed]",
      "text/plain": [
       "<Figure size 640x480 with 1 Axes>"
      ]
     },
     "metadata": {},
     "output_type": "display_data"
    }
   ],
   "source": [
    "sns.countplot(x = df['Start_Time'].dt.dayofweek , data = df)\n",
    "plt.xlabel('Day number')\n",
    "plt.show"
   ]
  },
  {
   "cell_type": "code",
   "execution_count": 53,
   "id": "3036725c-7274-4f01-8394-79e229eae66d",
   "metadata": {},
   "outputs": [
    {
     "data": {
      "text/plain": [
       "<function matplotlib.pyplot.show(close=None, block=None)>"
      ]
     },
     "execution_count": 53,
     "metadata": {},
     "output_type": "execute_result"
    },
    {
     "data": {
      "image/png": "[encoded data removed]",
      "text/plain": [
       "<Figure size 640x480 with 1 Axes>"
      ]
     },
     "metadata": {},
     "output_type": "display_data"
    }
   ],
   "source": [
    "sns.countplot(x = df['Start_Time'].dt.hour , data = df)\n",
    "plt.xlabel('Hour')\n",
    "plt.show"
   ]
  },
  {
   "cell_type": "code",
   "execution_count": 54,
   "id": "b9979c7c-3375-44cd-aa4d-bc02c7c6adec",
   "metadata": {},
   "outputs": [
    {
     "name": "stderr",
     "output_type": "stream",
     "text": [
      "/opt/conda/envs/anaconda-2024.02-py310/lib/python3.10/site-packages/seaborn/_oldcore.py:1119: FutureWarning: use_inf_as_na option is deprecated and will be removed in a future version. Convert inf values to NaN before operating instead.\n",
      "  with pd.option_context('mode.use_inf_as_na', True):\n"
     ]
    },
    {
     "data": {
      "text/plain": [
       "<seaborn.axisgrid.FacetGrid at 0x7f66c8fddd50>"
      ]
     },
     "execution_count": 54,
     "metadata": {},
     "output_type": "execute_result"
    },
    {
     "data": {
      "image/png": "[encoded data removed]",
      "text/plain": [
       "<Figure size 500x500 with 1 Axes>"
      ]
     },
     "metadata": {},
     "output_type": "display_data"
    }
   ],
   "source": [
    "sns.displot(df.Start_Time.dt.hour, bins=24, kde=False,stat=\"density\")"
   ]
  },
  {
   "cell_type": "code",
   "execution_count": null,
   "id": "b259c32f-f582-496f-a3d3-4230e3a95ae4",
   "metadata": {},
   "outputs": [],
   "source": []
  },
  {
   "cell_type": "code",
   "execution_count": 40,
   "id": "c4551c84-98c8-4af8-8663-6b5873c2a3eb",
   "metadata": {},
   "outputs": [
    {
     "name": "stderr",
     "output_type": "stream",
     "text": [
      "/tmp/ipykernel_1735/2075692981.py:6: SettingWithCopyWarning: \n",
      "A value is trying to be set on a copy of a slice from a DataFrame.\n",
      "Try using .loc[row_indexer,col_indexer] = value instead\n",
      "\n",
      "See the caveats in the documentation: https://pandas.pydata.org/pandas-docs/stable/user_guide/indexing.html#returning-a-view-versus-a-copy\n",
      "  sundays_start_time['day_labels'] = pd.cut(sundays_start_time['Start_Time'].dt.hour , bins = ranges , labels = labels )\n",
      "/opt/conda/envs/anaconda-2024.02-py310/lib/python3.10/site-packages/seaborn/_oldcore.py:1119: FutureWarning: use_inf_as_na option is deprecated and will be removed in a future version. Convert inf values to NaN before operating instead.\n",
      "  with pd.option_context('mode.use_inf_as_na', True):\n"
     ]
    },
    {
     "data": {
      "text/plain": [
       "<function matplotlib.pyplot.show(close=None, block=None)>"
      ]
     },
     "execution_count": 40,
     "metadata": {},
     "output_type": "execute_result"
    },
    {
     "data": {
      "image/png": "[encoded data removed]",
      "text/plain": [
       "<Figure size 500x500 with 1 Axes>"
      ]
     },
     "metadata": {},
     "output_type": "display_data"
    }
   ],
   "source": [
    "sundays_start_time = df[df['Start_Time'].dt.dayofweek ==6]\n",
    "\n",
    "\n",
    "ranges = [0,7,17,23]\n",
    "labels = ['party_time' , 'work_time' , 'rest_time']\n",
    "sundays_start_time['day_labels'] = pd.cut(sundays_start_time['Start_Time'].dt.hour , bins = ranges , labels = labels )\n",
    "\n",
    "sns.displot(x = 'day_labels' , data =sundays_start_time , kde = False , stat='density')\n",
    "# sns.countplot(x = 'day_labels' , data =sundays_start_time)\n",
    "plt.show"
   ]
  },
  {
   "cell_type": "code",
   "execution_count": null,
   "id": "5f440638-fa1f-40c2-a66c-56202ff3ed94",
   "metadata": {},
   "outputs": [],
   "source": [
    "\n"
   ]
  },
  {
   "cell_type": "code",
   "execution_count": 56,
   "id": "59fb9431-3e41-458e-9924-760007782fb8",
   "metadata": {},
   "outputs": [
    {
     "name": "stderr",
     "output_type": "stream",
     "text": [
      "/tmp/ipykernel_1735/2592778981.py:6: SettingWithCopyWarning: \n",
      "A value is trying to be set on a copy of a slice from a DataFrame.\n",
      "Try using .loc[row_indexer,col_indexer] = value instead\n",
      "\n",
      "See the caveats in the documentation: https://pandas.pydata.org/pandas-docs/stable/user_guide/indexing.html#returning-a-view-versus-a-copy\n",
      "  saturdays_start_time['day_labels'] = pd.cut(saturdays_start_time['Start_Time'].dt.hour , bins = ranges , labels = labels )\n",
      "/opt/conda/envs/anaconda-2024.02-py310/lib/python3.10/site-packages/seaborn/_oldcore.py:1119: FutureWarning: use_inf_as_na option is deprecated and will be removed in a future version. Convert inf values to NaN before operating instead.\n",
      "  with pd.option_context('mode.use_inf_as_na', True):\n"
     ]
    },
    {
     "data": {
      "text/plain": [
       "<function matplotlib.pyplot.show(close=None, block=None)>"
      ]
     },
     "execution_count": 56,
     "metadata": {},
     "output_type": "execute_result"
    },
    {
     "data": {
      "image/png": "[encoded data removed]",
      "text/plain": [
       "<Figure size 500x500 with 1 Axes>"
      ]
     },
     "metadata": {},
     "output_type": "display_data"
    }
   ],
   "source": [
    "saturdays_start_time = df[df['Start_Time'].dt.dayofweek ==5]\n",
    "\n",
    "\n",
    "ranges = [0,7,17,23]\n",
    "labels = ['party_time' , 'work_time' , 'rest_time']\n",
    "saturdays_start_time['day_labels'] = pd.cut(saturdays_start_time['Start_Time'].dt.hour , bins = ranges , labels = labels )\n",
    "\n",
    "sns.displot(x = 'day_labels' , data =saturdays_start_time , kde = False , stat='density')\n",
    "# sns.countplot(x = 'day_labels' , data =saturdays_start_time)\n",
    "plt.show"
   ]
  },
  {
   "cell_type": "code",
   "execution_count": 42,
   "id": "13fd352f-8cc7-4b2f-bbed-002de78b2708",
   "metadata": {},
   "outputs": [],
   "source": [
    "#Start Latitudde and longitude\n"
   ]
  },
  {
   "cell_type": "code",
   "execution_count": 58,
   "id": "5d62a689-270d-4817-8fb4-1422c09329cc",
   "metadata": {},
   "outputs": [],
   "source": [
    "sample_df = df.sample(int(0.1 * len(df)))"
   ]
  },
  {
   "cell_type": "code",
   "execution_count": 59,
   "id": "5b06a02e-9740-4f1f-a8f0-96e20ba1276a",
   "metadata": {},
   "outputs": [
    {
     "data": {
      "text/plain": [
       "<function matplotlib.pyplot.show(close=None, block=None)>"
      ]
     },
     "execution_count": 59,
     "metadata": {},
     "output_type": "execute_result"
    },
    {
     "data": {
      "image/png": "[encoded data removed]",
      "text/plain": [
       "<Figure size 640x480 with 1 Axes>"
      ]
     },
     "metadata": {},
     "output_type": "display_data"
    }
   ],
   "source": [
    "sns.scatterplot(x = sample_df.Start_Lng , y = sample_df.Start_Lat )\n",
    "plt.show"
   ]
  },
  {
   "cell_type": "code",
   "execution_count": null,
   "id": "b69d7133-b0e7-432b-a092-9aed45b0c60a",
   "metadata": {},
   "outputs": [],
   "source": []
  },
  {
   "cell_type": "code",
   "execution_count": null,
   "id": "2a3954c8-87fb-4ef6-ae83-5d6d49fe9d9e",
   "metadata": {},
   "outputs": [],
   "source": []
  },
  {
   "cell_type": "code",
   "execution_count": null,
   "id": "e2bd67a7-b393-451d-93c6-b2e29358a048",
   "metadata": {},
   "outputs": [],
   "source": []
  },
  {
   "cell_type": "code",
   "execution_count": null,
   "id": "857dcdc5-0e23-4d65-a543-aac74183876a",
   "metadata": {},
   "outputs": [],
   "source": []
  }
 ],
 "metadata": {
  "kernelspec": {
   "display_name": "anaconda-2024.02-py310",
   "language": "python",
   "name": "conda-env-anaconda-2024.02-py310-py"
  },
  "language_info": {
   "codemirror_mode": {
    "name": "ipython",
    "version": 3
   },
   "file_extension": ".py",
   "mimetype": "text/x-python",
   "name": "python",
   "nbconvert_exporter": "python",
   "pygments_lexer": "ipython3",
   "version": "3.10.14"
  }
 },
 "nbformat": 4,
 "nbformat_minor": 5
}
